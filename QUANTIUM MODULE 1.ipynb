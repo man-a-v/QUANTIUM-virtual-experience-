{
 "cells": [
  {
   "cell_type": "code",
   "execution_count": 2,
   "id": "47f39200",
   "metadata": {},
   "outputs": [],
   "source": [
    "import pandas as pd\n",
    "import numpy as np\n",
    "import seaborn as sns\n",
    "import matplotlib.pyplot as plt"
   ]
  },
  {
   "cell_type": "markdown",
   "id": "e8b14702",
   "metadata": {},
   "source": [
    "# Retrieving the transaction dataset:"
   ]
  },
  {
   "cell_type": "code",
   "execution_count": 5,
   "id": "7c44d573",
   "metadata": {},
   "outputs": [],
   "source": [
    "dataset = pd.read_excel(\"C:/Users/Manav Singh/Downloads/QVI_transaction_data.xlsx\")"
   ]
  },
  {
   "cell_type": "code",
   "execution_count": 6,
   "id": "5a67abb6",
   "metadata": {
    "scrolled": true
   },
   "outputs": [
    {
     "data": {
      "text/html": [
       "<div>\n",
       "<style scoped>\n",
       "    .dataframe tbody tr th:only-of-type {\n",
       "        vertical-align: middle;\n",
       "    }\n",
       "\n",
       "    .dataframe tbody tr th {\n",
       "        vertical-align: top;\n",
       "    }\n",
       "\n",
       "    .dataframe thead th {\n",
       "        text-align: right;\n",
       "    }\n",
       "</style>\n",
       "<table border=\"1\" class=\"dataframe\">\n",
       "  <thead>\n",
       "    <tr style=\"text-align: right;\">\n",
       "      <th></th>\n",
       "      <th>DATE</th>\n",
       "      <th>STORE_NBR</th>\n",
       "      <th>LYLTY_CARD_NBR</th>\n",
       "      <th>TXN_ID</th>\n",
       "      <th>PROD_NBR</th>\n",
       "      <th>PROD_QTY</th>\n",
       "      <th>TOT_SALES</th>\n",
       "    </tr>\n",
       "  </thead>\n",
       "  <tbody>\n",
       "    <tr>\n",
       "      <th>count</th>\n",
       "      <td>264836.000000</td>\n",
       "      <td>264836.00000</td>\n",
       "      <td>2.648360e+05</td>\n",
       "      <td>2.648360e+05</td>\n",
       "      <td>264836.000000</td>\n",
       "      <td>264836.000000</td>\n",
       "      <td>264836.000000</td>\n",
       "    </tr>\n",
       "    <tr>\n",
       "      <th>mean</th>\n",
       "      <td>43464.036260</td>\n",
       "      <td>135.08011</td>\n",
       "      <td>1.355495e+05</td>\n",
       "      <td>1.351583e+05</td>\n",
       "      <td>56.583157</td>\n",
       "      <td>1.907309</td>\n",
       "      <td>7.304200</td>\n",
       "    </tr>\n",
       "    <tr>\n",
       "      <th>std</th>\n",
       "      <td>105.389282</td>\n",
       "      <td>76.78418</td>\n",
       "      <td>8.057998e+04</td>\n",
       "      <td>7.813303e+04</td>\n",
       "      <td>32.826638</td>\n",
       "      <td>0.643654</td>\n",
       "      <td>3.083226</td>\n",
       "    </tr>\n",
       "    <tr>\n",
       "      <th>min</th>\n",
       "      <td>43282.000000</td>\n",
       "      <td>1.00000</td>\n",
       "      <td>1.000000e+03</td>\n",
       "      <td>1.000000e+00</td>\n",
       "      <td>1.000000</td>\n",
       "      <td>1.000000</td>\n",
       "      <td>1.500000</td>\n",
       "    </tr>\n",
       "    <tr>\n",
       "      <th>25%</th>\n",
       "      <td>43373.000000</td>\n",
       "      <td>70.00000</td>\n",
       "      <td>7.002100e+04</td>\n",
       "      <td>6.760150e+04</td>\n",
       "      <td>28.000000</td>\n",
       "      <td>2.000000</td>\n",
       "      <td>5.400000</td>\n",
       "    </tr>\n",
       "    <tr>\n",
       "      <th>50%</th>\n",
       "      <td>43464.000000</td>\n",
       "      <td>130.00000</td>\n",
       "      <td>1.303575e+05</td>\n",
       "      <td>1.351375e+05</td>\n",
       "      <td>56.000000</td>\n",
       "      <td>2.000000</td>\n",
       "      <td>7.400000</td>\n",
       "    </tr>\n",
       "    <tr>\n",
       "      <th>75%</th>\n",
       "      <td>43555.000000</td>\n",
       "      <td>203.00000</td>\n",
       "      <td>2.030942e+05</td>\n",
       "      <td>2.027012e+05</td>\n",
       "      <td>85.000000</td>\n",
       "      <td>2.000000</td>\n",
       "      <td>9.200000</td>\n",
       "    </tr>\n",
       "    <tr>\n",
       "      <th>max</th>\n",
       "      <td>43646.000000</td>\n",
       "      <td>272.00000</td>\n",
       "      <td>2.373711e+06</td>\n",
       "      <td>2.415841e+06</td>\n",
       "      <td>114.000000</td>\n",
       "      <td>200.000000</td>\n",
       "      <td>650.000000</td>\n",
       "    </tr>\n",
       "  </tbody>\n",
       "</table>\n",
       "</div>"
      ],
      "text/plain": [
       "                DATE     STORE_NBR  LYLTY_CARD_NBR        TXN_ID  \\\n",
       "count  264836.000000  264836.00000    2.648360e+05  2.648360e+05   \n",
       "mean    43464.036260     135.08011    1.355495e+05  1.351583e+05   \n",
       "std       105.389282      76.78418    8.057998e+04  7.813303e+04   \n",
       "min     43282.000000       1.00000    1.000000e+03  1.000000e+00   \n",
       "25%     43373.000000      70.00000    7.002100e+04  6.760150e+04   \n",
       "50%     43464.000000     130.00000    1.303575e+05  1.351375e+05   \n",
       "75%     43555.000000     203.00000    2.030942e+05  2.027012e+05   \n",
       "max     43646.000000     272.00000    2.373711e+06  2.415841e+06   \n",
       "\n",
       "            PROD_NBR       PROD_QTY      TOT_SALES  \n",
       "count  264836.000000  264836.000000  264836.000000  \n",
       "mean       56.583157       1.907309       7.304200  \n",
       "std        32.826638       0.643654       3.083226  \n",
       "min         1.000000       1.000000       1.500000  \n",
       "25%        28.000000       2.000000       5.400000  \n",
       "50%        56.000000       2.000000       7.400000  \n",
       "75%        85.000000       2.000000       9.200000  \n",
       "max       114.000000     200.000000     650.000000  "
      ]
     },
     "execution_count": 6,
     "metadata": {},
     "output_type": "execute_result"
    }
   ],
   "source": [
    "dataset.describe()"
   ]
  },
  {
   "cell_type": "markdown",
   "id": "1834a1bb",
   "metadata": {},
   "source": [
    "# REMOVAL OF OUTLIERS:"
   ]
  },
  {
   "cell_type": "code",
   "execution_count": 4,
   "id": "9aa55aea",
   "metadata": {},
   "outputs": [
    {
     "name": "stdout",
     "output_type": "stream",
     "text": [
      "<class 'pandas.core.frame.DataFrame'>\n",
      "RangeIndex: 264836 entries, 0 to 264835\n",
      "Data columns (total 8 columns):\n",
      " #   Column          Non-Null Count   Dtype  \n",
      "---  ------          --------------   -----  \n",
      " 0   DATE            264836 non-null  int64  \n",
      " 1   STORE_NBR       264836 non-null  int64  \n",
      " 2   LYLTY_CARD_NBR  264836 non-null  int64  \n",
      " 3   TXN_ID          264836 non-null  int64  \n",
      " 4   PROD_NBR        264836 non-null  int64  \n",
      " 5   PROD_NAME       264836 non-null  object \n",
      " 6   PROD_QTY        264836 non-null  int64  \n",
      " 7   TOT_SALES       264836 non-null  float64\n",
      "dtypes: float64(1), int64(6), object(1)\n",
      "memory usage: 16.2+ MB\n"
     ]
    }
   ],
   "source": [
    "#The above output indicates presence of outliers in prod_quantity as a result of which we have them in tot_sales too\n",
    "dataset.info()"
   ]
  },
  {
   "cell_type": "code",
   "execution_count": 7,
   "id": "aa50ebb2",
   "metadata": {},
   "outputs": [],
   "source": [
    "#Date shouldnt be int and also loyalty ,store , product numbers should be categorical values\n",
    "#dataset['DATE'] = pd.to_datetime(dataset['DATE'], format='%Y%m%d')\n",
    "dataset['DATE'] = pd.to_datetime(dataset['DATE'], origin='1899-12-30', unit='D')\n",
    "dataset['LYLTY_CARD_NBR'] = pd.Categorical(dataset['LYLTY_CARD_NBR'])\n",
    "dataset['STORE_NBR'] = pd.Categorical(dataset['STORE_NBR'])\n",
    "dataset['PROD_NBR'] = pd.Categorical(dataset['PROD_NBR'])\n"
   ]
  },
  {
   "cell_type": "code",
   "execution_count": 10,
   "id": "472ca65d",
   "metadata": {},
   "outputs": [
    {
     "data": {
      "text/html": [
       "<div>\n",
       "<style scoped>\n",
       "    .dataframe tbody tr th:only-of-type {\n",
       "        vertical-align: middle;\n",
       "    }\n",
       "\n",
       "    .dataframe tbody tr th {\n",
       "        vertical-align: top;\n",
       "    }\n",
       "\n",
       "    .dataframe thead th {\n",
       "        text-align: right;\n",
       "    }\n",
       "</style>\n",
       "<table border=\"1\" class=\"dataframe\">\n",
       "  <thead>\n",
       "    <tr style=\"text-align: right;\">\n",
       "      <th></th>\n",
       "      <th>DATE</th>\n",
       "      <th>STORE_NBR</th>\n",
       "      <th>LYLTY_CARD_NBR</th>\n",
       "      <th>TXN_ID</th>\n",
       "      <th>PROD_NBR</th>\n",
       "      <th>PROD_NAME</th>\n",
       "      <th>PROD_QTY</th>\n",
       "      <th>TOT_SALES</th>\n",
       "    </tr>\n",
       "  </thead>\n",
       "  <tbody>\n",
       "    <tr>\n",
       "      <th>0</th>\n",
       "      <td>2018-10-17</td>\n",
       "      <td>1</td>\n",
       "      <td>1000</td>\n",
       "      <td>1</td>\n",
       "      <td>5</td>\n",
       "      <td>Natural Chip        Compny SeaSalt175g</td>\n",
       "      <td>2</td>\n",
       "      <td>6.0</td>\n",
       "    </tr>\n",
       "    <tr>\n",
       "      <th>1</th>\n",
       "      <td>2019-05-14</td>\n",
       "      <td>1</td>\n",
       "      <td>1307</td>\n",
       "      <td>348</td>\n",
       "      <td>66</td>\n",
       "      <td>CCs Nacho Cheese    175g</td>\n",
       "      <td>3</td>\n",
       "      <td>6.3</td>\n",
       "    </tr>\n",
       "    <tr>\n",
       "      <th>2</th>\n",
       "      <td>2019-05-20</td>\n",
       "      <td>1</td>\n",
       "      <td>1343</td>\n",
       "      <td>383</td>\n",
       "      <td>61</td>\n",
       "      <td>Smiths Crinkle Cut  Chips Chicken 170g</td>\n",
       "      <td>2</td>\n",
       "      <td>2.9</td>\n",
       "    </tr>\n",
       "    <tr>\n",
       "      <th>3</th>\n",
       "      <td>2018-08-17</td>\n",
       "      <td>2</td>\n",
       "      <td>2373</td>\n",
       "      <td>974</td>\n",
       "      <td>69</td>\n",
       "      <td>Smiths Chip Thinly  S/Cream&amp;Onion 175g</td>\n",
       "      <td>5</td>\n",
       "      <td>15.0</td>\n",
       "    </tr>\n",
       "    <tr>\n",
       "      <th>4</th>\n",
       "      <td>2018-08-18</td>\n",
       "      <td>2</td>\n",
       "      <td>2426</td>\n",
       "      <td>1038</td>\n",
       "      <td>108</td>\n",
       "      <td>Kettle Tortilla ChpsHny&amp;Jlpno Chili 150g</td>\n",
       "      <td>3</td>\n",
       "      <td>13.8</td>\n",
       "    </tr>\n",
       "    <tr>\n",
       "      <th>5</th>\n",
       "      <td>2019-05-19</td>\n",
       "      <td>4</td>\n",
       "      <td>4074</td>\n",
       "      <td>2982</td>\n",
       "      <td>57</td>\n",
       "      <td>Old El Paso Salsa   Dip Tomato Mild 300g</td>\n",
       "      <td>1</td>\n",
       "      <td>5.1</td>\n",
       "    </tr>\n",
       "    <tr>\n",
       "      <th>6</th>\n",
       "      <td>2019-05-16</td>\n",
       "      <td>4</td>\n",
       "      <td>4149</td>\n",
       "      <td>3333</td>\n",
       "      <td>16</td>\n",
       "      <td>Smiths Crinkle Chips Salt &amp; Vinegar 330g</td>\n",
       "      <td>1</td>\n",
       "      <td>5.7</td>\n",
       "    </tr>\n",
       "    <tr>\n",
       "      <th>7</th>\n",
       "      <td>2019-05-16</td>\n",
       "      <td>4</td>\n",
       "      <td>4196</td>\n",
       "      <td>3539</td>\n",
       "      <td>24</td>\n",
       "      <td>Grain Waves         Sweet Chilli 210g</td>\n",
       "      <td>1</td>\n",
       "      <td>3.6</td>\n",
       "    </tr>\n",
       "    <tr>\n",
       "      <th>8</th>\n",
       "      <td>2018-08-20</td>\n",
       "      <td>5</td>\n",
       "      <td>5026</td>\n",
       "      <td>4525</td>\n",
       "      <td>42</td>\n",
       "      <td>Doritos Corn Chip Mexican Jalapeno 150g</td>\n",
       "      <td>1</td>\n",
       "      <td>3.9</td>\n",
       "    </tr>\n",
       "    <tr>\n",
       "      <th>9</th>\n",
       "      <td>2018-08-18</td>\n",
       "      <td>7</td>\n",
       "      <td>7150</td>\n",
       "      <td>6900</td>\n",
       "      <td>52</td>\n",
       "      <td>Grain Waves Sour    Cream&amp;Chives 210G</td>\n",
       "      <td>2</td>\n",
       "      <td>7.2</td>\n",
       "    </tr>\n",
       "  </tbody>\n",
       "</table>\n",
       "</div>"
      ],
      "text/plain": [
       "        DATE STORE_NBR LYLTY_CARD_NBR  TXN_ID PROD_NBR  \\\n",
       "0 2018-10-17         1           1000       1        5   \n",
       "1 2019-05-14         1           1307     348       66   \n",
       "2 2019-05-20         1           1343     383       61   \n",
       "3 2018-08-17         2           2373     974       69   \n",
       "4 2018-08-18         2           2426    1038      108   \n",
       "5 2019-05-19         4           4074    2982       57   \n",
       "6 2019-05-16         4           4149    3333       16   \n",
       "7 2019-05-16         4           4196    3539       24   \n",
       "8 2018-08-20         5           5026    4525       42   \n",
       "9 2018-08-18         7           7150    6900       52   \n",
       "\n",
       "                                  PROD_NAME  PROD_QTY  TOT_SALES  \n",
       "0    Natural Chip        Compny SeaSalt175g         2        6.0  \n",
       "1                  CCs Nacho Cheese    175g         3        6.3  \n",
       "2    Smiths Crinkle Cut  Chips Chicken 170g         2        2.9  \n",
       "3    Smiths Chip Thinly  S/Cream&Onion 175g         5       15.0  \n",
       "4  Kettle Tortilla ChpsHny&Jlpno Chili 150g         3       13.8  \n",
       "5  Old El Paso Salsa   Dip Tomato Mild 300g         1        5.1  \n",
       "6  Smiths Crinkle Chips Salt & Vinegar 330g         1        5.7  \n",
       "7     Grain Waves         Sweet Chilli 210g         1        3.6  \n",
       "8   Doritos Corn Chip Mexican Jalapeno 150g         1        3.9  \n",
       "9     Grain Waves Sour    Cream&Chives 210G         2        7.2  "
      ]
     },
     "execution_count": 10,
     "metadata": {},
     "output_type": "execute_result"
    }
   ],
   "source": [
    "dataset.head(10)"
   ]
  },
  {
   "cell_type": "code",
   "execution_count": 18,
   "id": "38c80acc",
   "metadata": {},
   "outputs": [
    {
     "name": "stderr",
     "output_type": "stream",
     "text": [
      "C:\\Anaconda\\lib\\site-packages\\seaborn\\_decorators.py:36: FutureWarning: Pass the following variable as a keyword arg: x. From version 0.12, the only valid positional argument will be `data`, and passing other arguments without an explicit keyword will result in an error or misinterpretation.\n",
      "  warnings.warn(\n"
     ]
    },
    {
     "data": {
      "text/plain": [
       "<AxesSubplot:xlabel='PROD_QTY'>"
      ]
     },
     "execution_count": 18,
     "metadata": {},
     "output_type": "execute_result"
    },
    {
     "data": {
      "image/png": "[encoded data removed]",
      "text/plain": [
       "<Figure size 432x288 with 1 Axes>"
      ]
     },
     "metadata": {
      "needs_background": "light"
     },
     "output_type": "display_data"
    }
   ],
   "source": [
    "sns.boxplot(dataset.PROD_QTY)"
   ]
  },
  {
   "cell_type": "code",
   "execution_count": 21,
   "id": "75539eae",
   "metadata": {},
   "outputs": [
    {
     "data": {
      "text/html": [
       "<div>\n",
       "<style scoped>\n",
       "    .dataframe tbody tr th:only-of-type {\n",
       "        vertical-align: middle;\n",
       "    }\n",
       "\n",
       "    .dataframe tbody tr th {\n",
       "        vertical-align: top;\n",
       "    }\n",
       "\n",
       "    .dataframe thead th {\n",
       "        text-align: right;\n",
       "    }\n",
       "</style>\n",
       "<table border=\"1\" class=\"dataframe\">\n",
       "  <thead>\n",
       "    <tr style=\"text-align: right;\">\n",
       "      <th></th>\n",
       "      <th>TXN_ID</th>\n",
       "      <th>PROD_QTY</th>\n",
       "      <th>TOT_SALES</th>\n",
       "    </tr>\n",
       "  </thead>\n",
       "  <tbody>\n",
       "    <tr>\n",
       "      <th>count</th>\n",
       "      <td>2.648360e+05</td>\n",
       "      <td>264836.000000</td>\n",
       "      <td>264836.000000</td>\n",
       "    </tr>\n",
       "    <tr>\n",
       "      <th>mean</th>\n",
       "      <td>1.351583e+05</td>\n",
       "      <td>1.907309</td>\n",
       "      <td>7.304200</td>\n",
       "    </tr>\n",
       "    <tr>\n",
       "      <th>std</th>\n",
       "      <td>7.813303e+04</td>\n",
       "      <td>0.643654</td>\n",
       "      <td>3.083226</td>\n",
       "    </tr>\n",
       "    <tr>\n",
       "      <th>min</th>\n",
       "      <td>1.000000e+00</td>\n",
       "      <td>1.000000</td>\n",
       "      <td>1.500000</td>\n",
       "    </tr>\n",
       "    <tr>\n",
       "      <th>25%</th>\n",
       "      <td>6.760150e+04</td>\n",
       "      <td>2.000000</td>\n",
       "      <td>5.400000</td>\n",
       "    </tr>\n",
       "    <tr>\n",
       "      <th>50%</th>\n",
       "      <td>1.351375e+05</td>\n",
       "      <td>2.000000</td>\n",
       "      <td>7.400000</td>\n",
       "    </tr>\n",
       "    <tr>\n",
       "      <th>75%</th>\n",
       "      <td>2.027012e+05</td>\n",
       "      <td>2.000000</td>\n",
       "      <td>9.200000</td>\n",
       "    </tr>\n",
       "    <tr>\n",
       "      <th>max</th>\n",
       "      <td>2.415841e+06</td>\n",
       "      <td>200.000000</td>\n",
       "      <td>650.000000</td>\n",
       "    </tr>\n",
       "  </tbody>\n",
       "</table>\n",
       "</div>"
      ],
      "text/plain": [
       "             TXN_ID       PROD_QTY      TOT_SALES\n",
       "count  2.648360e+05  264836.000000  264836.000000\n",
       "mean   1.351583e+05       1.907309       7.304200\n",
       "std    7.813303e+04       0.643654       3.083226\n",
       "min    1.000000e+00       1.000000       1.500000\n",
       "25%    6.760150e+04       2.000000       5.400000\n",
       "50%    1.351375e+05       2.000000       7.400000\n",
       "75%    2.027012e+05       2.000000       9.200000\n",
       "max    2.415841e+06     200.000000     650.000000"
      ]
     },
     "execution_count": 21,
     "metadata": {},
     "output_type": "execute_result"
    }
   ],
   "source": [
    "dataset.describe()"
   ]
  },
  {
   "cell_type": "code",
   "execution_count": 17,
   "id": "ce4b5d1c",
   "metadata": {
    "scrolled": true
   },
   "outputs": [
    {
     "name": "stderr",
     "output_type": "stream",
     "text": [
      "C:\\Anaconda\\lib\\site-packages\\seaborn\\distributions.py:2619: FutureWarning: `distplot` is a deprecated function and will be removed in a future version. Please adapt your code to use either `displot` (a figure-level function with similar flexibility) or `histplot` (an axes-level function for histograms).\n",
      "  warnings.warn(msg, FutureWarning)\n"
     ]
    },
    {
     "data": {
      "text/plain": [
       "(0.0, 0.05)"
      ]
     },
     "execution_count": 17,
     "metadata": {},
     "output_type": "execute_result"
    },
    {
     "data": {
      "image/png": "[encoded data removed]",
      "text/plain": [
       "<Figure size 432x288 with 1 Axes>"
      ]
     },
     "metadata": {
      "needs_background": "light"
     },
     "output_type": "display_data"
    }
   ],
   "source": [
    "sns.distplot(dataset.TOT_SALES,kde=True)\n",
    "plt.xlim(600, 700)\n",
    "plt.ylim(0,0.050)\n"
   ]
  },
  {
   "cell_type": "code",
   "execution_count": 24,
   "id": "6f250251",
   "metadata": {},
   "outputs": [
    {
     "data": {
      "text/plain": [
       "2"
      ]
     },
     "execution_count": 24,
     "metadata": {},
     "output_type": "execute_result"
    }
   ],
   "source": [
    "count = (dataset['PROD_QTY'] == 200).sum()\n",
    "count\n",
    "#so there are two insances of this outlier which we should remove"
   ]
  },
  {
   "cell_type": "code",
   "execution_count": 16,
   "id": "4f104ff3",
   "metadata": {},
   "outputs": [],
   "source": [
    "dataset = dataset[dataset['PROD_QTY'] != 200]\n"
   ]
  },
  {
   "cell_type": "code",
   "execution_count": 81,
   "id": "fd59d593",
   "metadata": {
    "scrolled": true
   },
   "outputs": [
    {
     "data": {
      "text/html": [
       "<div>\n",
       "<style scoped>\n",
       "    .dataframe tbody tr th:only-of-type {\n",
       "        vertical-align: middle;\n",
       "    }\n",
       "\n",
       "    .dataframe tbody tr th {\n",
       "        vertical-align: top;\n",
       "    }\n",
       "\n",
       "    .dataframe thead th {\n",
       "        text-align: right;\n",
       "    }\n",
       "</style>\n",
       "<table border=\"1\" class=\"dataframe\">\n",
       "  <thead>\n",
       "    <tr style=\"text-align: right;\">\n",
       "      <th></th>\n",
       "      <th>TXN_ID</th>\n",
       "      <th>PROD_QTY</th>\n",
       "      <th>TOT_SALES</th>\n",
       "      <th>PACK_SIZE</th>\n",
       "    </tr>\n",
       "  </thead>\n",
       "  <tbody>\n",
       "    <tr>\n",
       "      <th>count</th>\n",
       "      <td>2.648340e+05</td>\n",
       "      <td>264834.000000</td>\n",
       "      <td>264834.000000</td>\n",
       "      <td>264834.000000</td>\n",
       "    </tr>\n",
       "    <tr>\n",
       "      <th>mean</th>\n",
       "      <td>1.351576e+05</td>\n",
       "      <td>1.905813</td>\n",
       "      <td>7.299346</td>\n",
       "      <td>182.425512</td>\n",
       "    </tr>\n",
       "    <tr>\n",
       "      <th>std</th>\n",
       "      <td>7.813292e+04</td>\n",
       "      <td>0.343436</td>\n",
       "      <td>2.527241</td>\n",
       "      <td>64.325148</td>\n",
       "    </tr>\n",
       "    <tr>\n",
       "      <th>min</th>\n",
       "      <td>1.000000e+00</td>\n",
       "      <td>1.000000</td>\n",
       "      <td>1.500000</td>\n",
       "      <td>70.000000</td>\n",
       "    </tr>\n",
       "    <tr>\n",
       "      <th>25%</th>\n",
       "      <td>6.760050e+04</td>\n",
       "      <td>2.000000</td>\n",
       "      <td>5.400000</td>\n",
       "      <td>150.000000</td>\n",
       "    </tr>\n",
       "    <tr>\n",
       "      <th>50%</th>\n",
       "      <td>1.351365e+05</td>\n",
       "      <td>2.000000</td>\n",
       "      <td>7.400000</td>\n",
       "      <td>170.000000</td>\n",
       "    </tr>\n",
       "    <tr>\n",
       "      <th>75%</th>\n",
       "      <td>2.026998e+05</td>\n",
       "      <td>2.000000</td>\n",
       "      <td>9.200000</td>\n",
       "      <td>175.000000</td>\n",
       "    </tr>\n",
       "    <tr>\n",
       "      <th>max</th>\n",
       "      <td>2.415841e+06</td>\n",
       "      <td>5.000000</td>\n",
       "      <td>29.500000</td>\n",
       "      <td>380.000000</td>\n",
       "    </tr>\n",
       "  </tbody>\n",
       "</table>\n",
       "</div>"
      ],
      "text/plain": [
       "             TXN_ID       PROD_QTY      TOT_SALES      PACK_SIZE\n",
       "count  2.648340e+05  264834.000000  264834.000000  264834.000000\n",
       "mean   1.351576e+05       1.905813       7.299346     182.425512\n",
       "std    7.813292e+04       0.343436       2.527241      64.325148\n",
       "min    1.000000e+00       1.000000       1.500000      70.000000\n",
       "25%    6.760050e+04       2.000000       5.400000     150.000000\n",
       "50%    1.351365e+05       2.000000       7.400000     170.000000\n",
       "75%    2.026998e+05       2.000000       9.200000     175.000000\n",
       "max    2.415841e+06       5.000000      29.500000     380.000000"
      ]
     },
     "execution_count": 81,
     "metadata": {},
     "output_type": "execute_result"
    }
   ],
   "source": [
    "dataset.describe() #DONE"
   ]
  },
  {
   "cell_type": "markdown",
   "id": "3a985d36",
   "metadata": {},
   "source": [
    "# Creating new columns"
   ]
  },
  {
   "cell_type": "code",
   "execution_count": 8,
   "id": "751a4c7a",
   "metadata": {},
   "outputs": [],
   "source": [
    "import re\n",
    "dataset['PACK_SIZE'] = 0\n",
    "\n",
    "for i, x in enumerate(dataset['PROD_NAME']):\n",
    "    numbers = re.findall(r'\\d+', x)\n",
    "    if numbers:\n",
    "        dataset.loc[i, 'new'] = int(numbers[0])"
   ]
  },
  {
   "cell_type": "code",
   "execution_count": 11,
   "id": "f75fc293",
   "metadata": {},
   "outputs": [],
   "source": [
    "dataset.drop('PACK_SIZE', axis=1, inplace=True)"
   ]
  },
  {
   "cell_type": "code",
   "execution_count": 13,
   "id": "11b5e339",
   "metadata": {},
   "outputs": [],
   "source": [
    "dataset.rename(columns={'new': 'PACK_SIZE'}, inplace=True)\n"
   ]
  },
  {
   "cell_type": "code",
   "execution_count": 17,
   "id": "09050567",
   "metadata": {
    "scrolled": true
   },
   "outputs": [
    {
     "data": {
      "text/html": [
       "<div>\n",
       "<style scoped>\n",
       "    .dataframe tbody tr th:only-of-type {\n",
       "        vertical-align: middle;\n",
       "    }\n",
       "\n",
       "    .dataframe tbody tr th {\n",
       "        vertical-align: top;\n",
       "    }\n",
       "\n",
       "    .dataframe thead th {\n",
       "        text-align: right;\n",
       "    }\n",
       "</style>\n",
       "<table border=\"1\" class=\"dataframe\">\n",
       "  <thead>\n",
       "    <tr style=\"text-align: right;\">\n",
       "      <th></th>\n",
       "      <th>DATE</th>\n",
       "      <th>STORE_NBR</th>\n",
       "      <th>LYLTY_CARD_NBR</th>\n",
       "      <th>TXN_ID</th>\n",
       "      <th>PROD_NBR</th>\n",
       "      <th>PROD_NAME</th>\n",
       "      <th>PROD_QTY</th>\n",
       "      <th>TOT_SALES</th>\n",
       "      <th>PACK_SIZE</th>\n",
       "    </tr>\n",
       "  </thead>\n",
       "  <tbody>\n",
       "    <tr>\n",
       "      <th>0</th>\n",
       "      <td>2018-10-17</td>\n",
       "      <td>1</td>\n",
       "      <td>1000</td>\n",
       "      <td>1</td>\n",
       "      <td>5</td>\n",
       "      <td>Natural Chip        Compny SeaSalt175g</td>\n",
       "      <td>2</td>\n",
       "      <td>6.0</td>\n",
       "      <td>175.0</td>\n",
       "    </tr>\n",
       "    <tr>\n",
       "      <th>1</th>\n",
       "      <td>2019-05-14</td>\n",
       "      <td>1</td>\n",
       "      <td>1307</td>\n",
       "      <td>348</td>\n",
       "      <td>66</td>\n",
       "      <td>CCs Nacho Cheese    175g</td>\n",
       "      <td>3</td>\n",
       "      <td>6.3</td>\n",
       "      <td>175.0</td>\n",
       "    </tr>\n",
       "    <tr>\n",
       "      <th>2</th>\n",
       "      <td>2019-05-20</td>\n",
       "      <td>1</td>\n",
       "      <td>1343</td>\n",
       "      <td>383</td>\n",
       "      <td>61</td>\n",
       "      <td>Smiths Crinkle Cut  Chips Chicken 170g</td>\n",
       "      <td>2</td>\n",
       "      <td>2.9</td>\n",
       "      <td>170.0</td>\n",
       "    </tr>\n",
       "    <tr>\n",
       "      <th>3</th>\n",
       "      <td>2018-08-17</td>\n",
       "      <td>2</td>\n",
       "      <td>2373</td>\n",
       "      <td>974</td>\n",
       "      <td>69</td>\n",
       "      <td>Smiths Chip Thinly  S/Cream&amp;Onion 175g</td>\n",
       "      <td>5</td>\n",
       "      <td>15.0</td>\n",
       "      <td>175.0</td>\n",
       "    </tr>\n",
       "    <tr>\n",
       "      <th>4</th>\n",
       "      <td>2018-08-18</td>\n",
       "      <td>2</td>\n",
       "      <td>2426</td>\n",
       "      <td>1038</td>\n",
       "      <td>108</td>\n",
       "      <td>Kettle Tortilla ChpsHny&amp;Jlpno Chili 150g</td>\n",
       "      <td>3</td>\n",
       "      <td>13.8</td>\n",
       "      <td>150.0</td>\n",
       "    </tr>\n",
       "  </tbody>\n",
       "</table>\n",
       "</div>"
      ],
      "text/plain": [
       "        DATE STORE_NBR LYLTY_CARD_NBR  TXN_ID PROD_NBR  \\\n",
       "0 2018-10-17         1           1000       1        5   \n",
       "1 2019-05-14         1           1307     348       66   \n",
       "2 2019-05-20         1           1343     383       61   \n",
       "3 2018-08-17         2           2373     974       69   \n",
       "4 2018-08-18         2           2426    1038      108   \n",
       "\n",
       "                                  PROD_NAME  PROD_QTY  TOT_SALES  PACK_SIZE  \n",
       "0    Natural Chip        Compny SeaSalt175g         2        6.0      175.0  \n",
       "1                  CCs Nacho Cheese    175g         3        6.3      175.0  \n",
       "2    Smiths Crinkle Cut  Chips Chicken 170g         2        2.9      170.0  \n",
       "3    Smiths Chip Thinly  S/Cream&Onion 175g         5       15.0      175.0  \n",
       "4  Kettle Tortilla ChpsHny&Jlpno Chili 150g         3       13.8      150.0  "
      ]
     },
     "execution_count": 17,
     "metadata": {},
     "output_type": "execute_result"
    }
   ],
   "source": [
    "dataset.head()"
   ]
  },
  {
   "cell_type": "code",
   "execution_count": 18,
   "id": "5c7c7f36",
   "metadata": {
    "scrolled": true
   },
   "outputs": [
    {
     "data": {
      "text/html": [
       "<div>\n",
       "<style scoped>\n",
       "    .dataframe tbody tr th:only-of-type {\n",
       "        vertical-align: middle;\n",
       "    }\n",
       "\n",
       "    .dataframe tbody tr th {\n",
       "        vertical-align: top;\n",
       "    }\n",
       "\n",
       "    .dataframe thead th {\n",
       "        text-align: right;\n",
       "    }\n",
       "</style>\n",
       "<table border=\"1\" class=\"dataframe\">\n",
       "  <thead>\n",
       "    <tr style=\"text-align: right;\">\n",
       "      <th></th>\n",
       "      <th>TXN_ID</th>\n",
       "      <th>PROD_QTY</th>\n",
       "      <th>TOT_SALES</th>\n",
       "      <th>PACK_SIZE</th>\n",
       "    </tr>\n",
       "  </thead>\n",
       "  <tbody>\n",
       "    <tr>\n",
       "      <th>count</th>\n",
       "      <td>2.648340e+05</td>\n",
       "      <td>264834.000000</td>\n",
       "      <td>264834.000000</td>\n",
       "      <td>264834.000000</td>\n",
       "    </tr>\n",
       "    <tr>\n",
       "      <th>mean</th>\n",
       "      <td>1.351576e+05</td>\n",
       "      <td>1.905813</td>\n",
       "      <td>7.299346</td>\n",
       "      <td>182.425512</td>\n",
       "    </tr>\n",
       "    <tr>\n",
       "      <th>std</th>\n",
       "      <td>7.813292e+04</td>\n",
       "      <td>0.343436</td>\n",
       "      <td>2.527241</td>\n",
       "      <td>64.325148</td>\n",
       "    </tr>\n",
       "    <tr>\n",
       "      <th>min</th>\n",
       "      <td>1.000000e+00</td>\n",
       "      <td>1.000000</td>\n",
       "      <td>1.500000</td>\n",
       "      <td>70.000000</td>\n",
       "    </tr>\n",
       "    <tr>\n",
       "      <th>25%</th>\n",
       "      <td>6.760050e+04</td>\n",
       "      <td>2.000000</td>\n",
       "      <td>5.400000</td>\n",
       "      <td>150.000000</td>\n",
       "    </tr>\n",
       "    <tr>\n",
       "      <th>50%</th>\n",
       "      <td>1.351365e+05</td>\n",
       "      <td>2.000000</td>\n",
       "      <td>7.400000</td>\n",
       "      <td>170.000000</td>\n",
       "    </tr>\n",
       "    <tr>\n",
       "      <th>75%</th>\n",
       "      <td>2.026998e+05</td>\n",
       "      <td>2.000000</td>\n",
       "      <td>9.200000</td>\n",
       "      <td>175.000000</td>\n",
       "    </tr>\n",
       "    <tr>\n",
       "      <th>max</th>\n",
       "      <td>2.415841e+06</td>\n",
       "      <td>5.000000</td>\n",
       "      <td>29.500000</td>\n",
       "      <td>380.000000</td>\n",
       "    </tr>\n",
       "  </tbody>\n",
       "</table>\n",
       "</div>"
      ],
      "text/plain": [
       "             TXN_ID       PROD_QTY      TOT_SALES      PACK_SIZE\n",
       "count  2.648340e+05  264834.000000  264834.000000  264834.000000\n",
       "mean   1.351576e+05       1.905813       7.299346     182.425512\n",
       "std    7.813292e+04       0.343436       2.527241      64.325148\n",
       "min    1.000000e+00       1.000000       1.500000      70.000000\n",
       "25%    6.760050e+04       2.000000       5.400000     150.000000\n",
       "50%    1.351365e+05       2.000000       7.400000     170.000000\n",
       "75%    2.026998e+05       2.000000       9.200000     175.000000\n",
       "max    2.415841e+06       5.000000      29.500000     380.000000"
      ]
     },
     "execution_count": 18,
     "metadata": {},
     "output_type": "execute_result"
    }
   ],
   "source": [
    "dataset.describe()"
   ]
  },
  {
   "cell_type": "code",
   "execution_count": 20,
   "id": "eb93adfd",
   "metadata": {},
   "outputs": [],
   "source": [
    "#ADDING BRANDS COULMN\n",
    "dataset['BRAND'] = dataset['PROD_NAME'].str.split().str[0]"
   ]
  },
  {
   "cell_type": "code",
   "execution_count": 83,
   "id": "293d6aef",
   "metadata": {},
   "outputs": [
    {
     "data": {
      "image/png": "[encoded data removed]",
      "text/plain": [
       "<Figure size 432x288 with 1 Axes>"
      ]
     },
     "metadata": {
      "needs_background": "light"
     },
     "output_type": "display_data"
    }
   ],
   "source": [
    "plt.hist(dataset['PACK_SIZE'],bins=10)  # 'Value' is the column you want to create a histogram for\n",
    "plt.xlabel('Value')\n",
    "plt.ylabel('Frequency')\n",
    "plt.title('Histogram of Values')\n",
    "plt.show()"
   ]
  },
  {
   "cell_type": "code",
   "execution_count": 84,
   "id": "fd6b59f8",
   "metadata": {
    "scrolled": true
   },
   "outputs": [
    {
     "data": {
      "image/png": "[encoded data removed]",
      "text/plain": [
       "<Figure size 432x288 with 1 Axes>"
      ]
     },
     "metadata": {
      "needs_background": "light"
     },
     "output_type": "display_data"
    }
   ],
   "source": [
    "plt.hist(dataset['PROD_NBR'],bins=10)  # 'Value' is the column you want to create a histogram for\n",
    "plt.xlabel('Value')\n",
    "plt.ylabel('Frequency')\n",
    "plt.title('Histogram of Values')\n",
    "plt.show()"
   ]
  },
  {
   "cell_type": "code",
   "execution_count": 54,
   "id": "68865f8a",
   "metadata": {},
   "outputs": [
    {
     "data": {
      "text/plain": [
       "29"
      ]
     },
     "execution_count": 54,
     "metadata": {},
     "output_type": "execute_result"
    }
   ],
   "source": [
    "count = (dataset['BRAND']).nunique()\n",
    "count"
   ]
  },
  {
   "cell_type": "code",
   "execution_count": 85,
   "id": "ad56e30a",
   "metadata": {
    "scrolled": true
   },
   "outputs": [
    {
     "data": {
      "image/png": "[encoded data removed]",
      "text/plain": [
       "<Figure size 432x288 with 1 Axes>"
      ]
     },
     "metadata": {
      "needs_background": "light"
     },
     "output_type": "display_data"
    }
   ],
   "source": [
    "plt.hist(dataset['BRAND'],bins=29) # 'Value' is the column you want to create a histogram for\n",
    "plt.xticks(rotation='vertical')\n",
    "plt.xlabel('Value')\n",
    "plt.ylabel('Frequency')\n",
    "plt.title('Histogram of Values')\n",
    "plt.show()"
   ]
  },
  {
   "cell_type": "markdown",
   "id": "60ee8f25",
   "metadata": {},
   "source": [
    "# Removing errors in Brand naming"
   ]
  },
  {
   "cell_type": "code",
   "execution_count": 21,
   "id": "30915f52",
   "metadata": {},
   "outputs": [],
   "source": [
    "#Typos exist in the naming of the brands so they should be  removeed:\n",
    "# snbts and sunbites , rrd and red, infzns and Infuzions, Smiths and Smith, ww and woolworth,doritos nad dorito, grain and grnwes\n",
    "dataset['BRAND'] = dataset['BRAND'].replace('RRD', 'RED')\n",
    "dataset['BRAND'] = dataset['BRAND'].replace('Infzns', 'Infuzions')\n",
    "dataset['BRAND'] = dataset['BRAND'].replace('Snbts', 'Sunbites')\n",
    "dataset['BRAND'] = dataset['BRAND'].replace('Smith', 'Smiths')\n",
    "dataset['BRAND'] = dataset['BRAND'].replace('WW', 'Woolworths')\n",
    "dataset['BRAND'] = dataset['BRAND'].replace('Dorito', 'Doritos')\n",
    "dataset['BRAND'] = dataset['BRAND'].replace('GrnWves', 'Grain')"
   ]
  },
  {
   "cell_type": "code",
   "execution_count": 22,
   "id": "7fb3f153",
   "metadata": {},
   "outputs": [
    {
     "data": {
      "text/plain": [
       "23"
      ]
     },
     "execution_count": 22,
     "metadata": {},
     "output_type": "execute_result"
    }
   ],
   "source": [
    "count = (dataset['BRAND']).nunique()\n",
    "count"
   ]
  },
  {
   "cell_type": "code",
   "execution_count": 86,
   "id": "35d37298",
   "metadata": {
    "scrolled": true
   },
   "outputs": [
    {
     "data": {
      "image/png": "[encoded data removed]",
      "text/plain": [
       "<Figure size 432x288 with 1 Axes>"
      ]
     },
     "metadata": {
      "needs_background": "light"
     },
     "output_type": "display_data"
    }
   ],
   "source": [
    "plt.hist(dataset['BRAND'],bins=23) # 'Value' is the column you want to create a histogram for\n",
    "plt.xticks(rotation='vertical')\n",
    "plt.xlabel('Value')\n",
    "plt.ylabel('Frequency')\n",
    "plt.title('Histogram of Values')\n",
    "plt.show()"
   ]
  },
  {
   "cell_type": "markdown",
   "id": "5a095b05",
   "metadata": {},
   "source": [
    "# Retrieving of customer dataset:"
   ]
  },
  {
   "cell_type": "code",
   "execution_count": 23,
   "id": "e0a65dd5",
   "metadata": {},
   "outputs": [],
   "source": [
    "dataset2 = pd.read_csv(\"C:/Users/Manav Singh/Downloads/QVI_purchase_behaviour.csv\")"
   ]
  },
  {
   "cell_type": "code",
   "execution_count": 24,
   "id": "eee492e4",
   "metadata": {},
   "outputs": [
    {
     "data": {
      "text/html": [
       "<div>\n",
       "<style scoped>\n",
       "    .dataframe tbody tr th:only-of-type {\n",
       "        vertical-align: middle;\n",
       "    }\n",
       "\n",
       "    .dataframe tbody tr th {\n",
       "        vertical-align: top;\n",
       "    }\n",
       "\n",
       "    .dataframe thead th {\n",
       "        text-align: right;\n",
       "    }\n",
       "</style>\n",
       "<table border=\"1\" class=\"dataframe\">\n",
       "  <thead>\n",
       "    <tr style=\"text-align: right;\">\n",
       "      <th></th>\n",
       "      <th>LYLTY_CARD_NBR</th>\n",
       "      <th>LIFESTAGE</th>\n",
       "      <th>PREMIUM_CUSTOMER</th>\n",
       "    </tr>\n",
       "  </thead>\n",
       "  <tbody>\n",
       "    <tr>\n",
       "      <th>0</th>\n",
       "      <td>1000</td>\n",
       "      <td>YOUNG SINGLES/COUPLES</td>\n",
       "      <td>Premium</td>\n",
       "    </tr>\n",
       "    <tr>\n",
       "      <th>1</th>\n",
       "      <td>1002</td>\n",
       "      <td>YOUNG SINGLES/COUPLES</td>\n",
       "      <td>Mainstream</td>\n",
       "    </tr>\n",
       "    <tr>\n",
       "      <th>2</th>\n",
       "      <td>1003</td>\n",
       "      <td>YOUNG FAMILIES</td>\n",
       "      <td>Budget</td>\n",
       "    </tr>\n",
       "    <tr>\n",
       "      <th>3</th>\n",
       "      <td>1004</td>\n",
       "      <td>OLDER SINGLES/COUPLES</td>\n",
       "      <td>Mainstream</td>\n",
       "    </tr>\n",
       "    <tr>\n",
       "      <th>4</th>\n",
       "      <td>1005</td>\n",
       "      <td>MIDAGE SINGLES/COUPLES</td>\n",
       "      <td>Mainstream</td>\n",
       "    </tr>\n",
       "  </tbody>\n",
       "</table>\n",
       "</div>"
      ],
      "text/plain": [
       "   LYLTY_CARD_NBR               LIFESTAGE PREMIUM_CUSTOMER\n",
       "0            1000   YOUNG SINGLES/COUPLES          Premium\n",
       "1            1002   YOUNG SINGLES/COUPLES       Mainstream\n",
       "2            1003          YOUNG FAMILIES           Budget\n",
       "3            1004   OLDER SINGLES/COUPLES       Mainstream\n",
       "4            1005  MIDAGE SINGLES/COUPLES       Mainstream"
      ]
     },
     "execution_count": 24,
     "metadata": {},
     "output_type": "execute_result"
    }
   ],
   "source": [
    "dataset2.head()\n"
   ]
  },
  {
   "cell_type": "code",
   "execution_count": 63,
   "id": "4f63e4e9",
   "metadata": {},
   "outputs": [
    {
     "data": {
      "text/html": [
       "<div>\n",
       "<style scoped>\n",
       "    .dataframe tbody tr th:only-of-type {\n",
       "        vertical-align: middle;\n",
       "    }\n",
       "\n",
       "    .dataframe tbody tr th {\n",
       "        vertical-align: top;\n",
       "    }\n",
       "\n",
       "    .dataframe thead th {\n",
       "        text-align: right;\n",
       "    }\n",
       "</style>\n",
       "<table border=\"1\" class=\"dataframe\">\n",
       "  <thead>\n",
       "    <tr style=\"text-align: right;\">\n",
       "      <th></th>\n",
       "      <th>LYLTY_CARD_NBR</th>\n",
       "    </tr>\n",
       "  </thead>\n",
       "  <tbody>\n",
       "    <tr>\n",
       "      <th>count</th>\n",
       "      <td>7.263700e+04</td>\n",
       "    </tr>\n",
       "    <tr>\n",
       "      <th>mean</th>\n",
       "      <td>1.361859e+05</td>\n",
       "    </tr>\n",
       "    <tr>\n",
       "      <th>std</th>\n",
       "      <td>8.989293e+04</td>\n",
       "    </tr>\n",
       "    <tr>\n",
       "      <th>min</th>\n",
       "      <td>1.000000e+03</td>\n",
       "    </tr>\n",
       "    <tr>\n",
       "      <th>25%</th>\n",
       "      <td>6.620200e+04</td>\n",
       "    </tr>\n",
       "    <tr>\n",
       "      <th>50%</th>\n",
       "      <td>1.340400e+05</td>\n",
       "    </tr>\n",
       "    <tr>\n",
       "      <th>75%</th>\n",
       "      <td>2.033750e+05</td>\n",
       "    </tr>\n",
       "    <tr>\n",
       "      <th>max</th>\n",
       "      <td>2.373711e+06</td>\n",
       "    </tr>\n",
       "  </tbody>\n",
       "</table>\n",
       "</div>"
      ],
      "text/plain": [
       "       LYLTY_CARD_NBR\n",
       "count    7.263700e+04\n",
       "mean     1.361859e+05\n",
       "std      8.989293e+04\n",
       "min      1.000000e+03\n",
       "25%      6.620200e+04\n",
       "50%      1.340400e+05\n",
       "75%      2.033750e+05\n",
       "max      2.373711e+06"
      ]
     },
     "execution_count": 63,
     "metadata": {},
     "output_type": "execute_result"
    }
   ],
   "source": [
    "dataset2.describe()"
   ]
  },
  {
   "cell_type": "code",
   "execution_count": 75,
   "id": "1e3aaac4",
   "metadata": {},
   "outputs": [
    {
     "name": "stdout",
     "output_type": "stream",
     "text": [
      "<class 'pandas.core.frame.DataFrame'>\n",
      "RangeIndex: 72637 entries, 0 to 72636\n",
      "Data columns (total 3 columns):\n",
      " #   Column            Non-Null Count  Dtype   \n",
      "---  ------            --------------  -----   \n",
      " 0   LYLTY_CARD_NBR    72637 non-null  category\n",
      " 1   LIFESTAGE         72637 non-null  category\n",
      " 2   PREMIUM_CUSTOMER  72637 non-null  category\n",
      "dtypes: category(3)\n",
      "memory usage: 3.0 MB\n"
     ]
    }
   ],
   "source": [
    "dataset2.info()"
   ]
  },
  {
   "cell_type": "code",
   "execution_count": 25,
   "id": "c3708ce0",
   "metadata": {},
   "outputs": [],
   "source": [
    "dataset2['PREMIUM_CUSTOMER'] = pd.Categorical(dataset2['PREMIUM_CUSTOMER'])\n",
    "dataset2['LIFESTAGE'] = pd.Categorical(dataset2['LIFESTAGE'])\n",
    "dataset2['LYLTY_CARD_NBR'] = pd.Categorical(dataset2['LYLTY_CARD_NBR'])\n",
    "\n"
   ]
  },
  {
   "cell_type": "markdown",
   "id": "3793cd10",
   "metadata": {},
   "source": [
    "# Merging of two datasets: "
   ]
  },
  {
   "cell_type": "code",
   "execution_count": 26,
   "id": "dce3caa1",
   "metadata": {},
   "outputs": [],
   "source": [
    "#Merging the two datasets:\n",
    "merged_data = pd.merge(dataset, dataset2, on='LYLTY_CARD_NBR')"
   ]
  },
  {
   "cell_type": "code",
   "execution_count": 88,
   "id": "a80aaca3",
   "metadata": {},
   "outputs": [
    {
     "data": {
      "text/html": [
       "<div>\n",
       "<style scoped>\n",
       "    .dataframe tbody tr th:only-of-type {\n",
       "        vertical-align: middle;\n",
       "    }\n",
       "\n",
       "    .dataframe tbody tr th {\n",
       "        vertical-align: top;\n",
       "    }\n",
       "\n",
       "    .dataframe thead th {\n",
       "        text-align: right;\n",
       "    }\n",
       "</style>\n",
       "<table border=\"1\" class=\"dataframe\">\n",
       "  <thead>\n",
       "    <tr style=\"text-align: right;\">\n",
       "      <th></th>\n",
       "      <th>DATE</th>\n",
       "      <th>STORE_NBR</th>\n",
       "      <th>LYLTY_CARD_NBR</th>\n",
       "      <th>TXN_ID</th>\n",
       "      <th>PROD_NBR</th>\n",
       "      <th>PROD_NAME</th>\n",
       "      <th>PROD_QTY</th>\n",
       "      <th>TOT_SALES</th>\n",
       "      <th>PACK_SIZE</th>\n",
       "      <th>BRAND</th>\n",
       "      <th>LIFESTAGE</th>\n",
       "      <th>PREMIUM_CUSTOMER</th>\n",
       "    </tr>\n",
       "  </thead>\n",
       "  <tbody>\n",
       "    <tr>\n",
       "      <th>0</th>\n",
       "      <td>2018-10-17</td>\n",
       "      <td>1</td>\n",
       "      <td>1000</td>\n",
       "      <td>1</td>\n",
       "      <td>5</td>\n",
       "      <td>Natural Chip        Compny SeaSalt175g</td>\n",
       "      <td>2</td>\n",
       "      <td>6.0</td>\n",
       "      <td>175</td>\n",
       "      <td>Natural</td>\n",
       "      <td>YOUNG SINGLES/COUPLES</td>\n",
       "      <td>Premium</td>\n",
       "    </tr>\n",
       "    <tr>\n",
       "      <th>1</th>\n",
       "      <td>2019-05-14</td>\n",
       "      <td>1</td>\n",
       "      <td>1307</td>\n",
       "      <td>348</td>\n",
       "      <td>66</td>\n",
       "      <td>CCs Nacho Cheese    175g</td>\n",
       "      <td>3</td>\n",
       "      <td>6.3</td>\n",
       "      <td>175</td>\n",
       "      <td>CCs</td>\n",
       "      <td>MIDAGE SINGLES/COUPLES</td>\n",
       "      <td>Budget</td>\n",
       "    </tr>\n",
       "    <tr>\n",
       "      <th>2</th>\n",
       "      <td>2018-11-10</td>\n",
       "      <td>1</td>\n",
       "      <td>1307</td>\n",
       "      <td>346</td>\n",
       "      <td>96</td>\n",
       "      <td>WW Original Stacked Chips 160g</td>\n",
       "      <td>2</td>\n",
       "      <td>3.8</td>\n",
       "      <td>160</td>\n",
       "      <td>Woolworths</td>\n",
       "      <td>MIDAGE SINGLES/COUPLES</td>\n",
       "      <td>Budget</td>\n",
       "    </tr>\n",
       "    <tr>\n",
       "      <th>3</th>\n",
       "      <td>2019-03-09</td>\n",
       "      <td>1</td>\n",
       "      <td>1307</td>\n",
       "      <td>347</td>\n",
       "      <td>54</td>\n",
       "      <td>CCs Original 175g</td>\n",
       "      <td>1</td>\n",
       "      <td>2.1</td>\n",
       "      <td>175</td>\n",
       "      <td>CCs</td>\n",
       "      <td>MIDAGE SINGLES/COUPLES</td>\n",
       "      <td>Budget</td>\n",
       "    </tr>\n",
       "    <tr>\n",
       "      <th>4</th>\n",
       "      <td>2019-05-20</td>\n",
       "      <td>1</td>\n",
       "      <td>1343</td>\n",
       "      <td>383</td>\n",
       "      <td>61</td>\n",
       "      <td>Smiths Crinkle Cut  Chips Chicken 170g</td>\n",
       "      <td>2</td>\n",
       "      <td>2.9</td>\n",
       "      <td>170</td>\n",
       "      <td>Smiths</td>\n",
       "      <td>MIDAGE SINGLES/COUPLES</td>\n",
       "      <td>Budget</td>\n",
       "    </tr>\n",
       "  </tbody>\n",
       "</table>\n",
       "</div>"
      ],
      "text/plain": [
       "        DATE STORE_NBR LYLTY_CARD_NBR  TXN_ID PROD_NBR  \\\n",
       "0 2018-10-17         1           1000       1        5   \n",
       "1 2019-05-14         1           1307     348       66   \n",
       "2 2018-11-10         1           1307     346       96   \n",
       "3 2019-03-09         1           1307     347       54   \n",
       "4 2019-05-20         1           1343     383       61   \n",
       "\n",
       "                                PROD_NAME  PROD_QTY  TOT_SALES  PACK_SIZE  \\\n",
       "0  Natural Chip        Compny SeaSalt175g         2        6.0        175   \n",
       "1                CCs Nacho Cheese    175g         3        6.3        175   \n",
       "2          WW Original Stacked Chips 160g         2        3.8        160   \n",
       "3                       CCs Original 175g         1        2.1        175   \n",
       "4  Smiths Crinkle Cut  Chips Chicken 170g         2        2.9        170   \n",
       "\n",
       "        BRAND               LIFESTAGE PREMIUM_CUSTOMER  \n",
       "0     Natural   YOUNG SINGLES/COUPLES          Premium  \n",
       "1         CCs  MIDAGE SINGLES/COUPLES           Budget  \n",
       "2  Woolworths  MIDAGE SINGLES/COUPLES           Budget  \n",
       "3         CCs  MIDAGE SINGLES/COUPLES           Budget  \n",
       "4      Smiths  MIDAGE SINGLES/COUPLES           Budget  "
      ]
     },
     "execution_count": 88,
     "metadata": {},
     "output_type": "execute_result"
    }
   ],
   "source": [
    "merged_data.head()"
   ]
  },
  {
   "cell_type": "code",
   "execution_count": 78,
   "id": "d434bed3",
   "metadata": {},
   "outputs": [
    {
     "data": {
      "text/plain": [
       "2"
      ]
     },
     "execution_count": 78,
     "metadata": {},
     "output_type": "execute_result"
    }
   ],
   "source": [
    "count = (dataset['PROD_QTY'] == 200).sum()\n",
    "count"
   ]
  },
  {
   "cell_type": "code",
   "execution_count": 90,
   "id": "6deb480b",
   "metadata": {},
   "outputs": [
    {
     "data": {
      "text/html": [
       "<div>\n",
       "<style scoped>\n",
       "    .dataframe tbody tr th:only-of-type {\n",
       "        vertical-align: middle;\n",
       "    }\n",
       "\n",
       "    .dataframe tbody tr th {\n",
       "        vertical-align: top;\n",
       "    }\n",
       "\n",
       "    .dataframe thead th {\n",
       "        text-align: right;\n",
       "    }\n",
       "</style>\n",
       "<table border=\"1\" class=\"dataframe\">\n",
       "  <thead>\n",
       "    <tr style=\"text-align: right;\">\n",
       "      <th></th>\n",
       "      <th>TXN_ID</th>\n",
       "      <th>PROD_QTY</th>\n",
       "      <th>TOT_SALES</th>\n",
       "      <th>PACK_SIZE</th>\n",
       "    </tr>\n",
       "  </thead>\n",
       "  <tbody>\n",
       "    <tr>\n",
       "      <th>count</th>\n",
       "      <td>2.648340e+05</td>\n",
       "      <td>264834.000000</td>\n",
       "      <td>264834.000000</td>\n",
       "      <td>264834.000000</td>\n",
       "    </tr>\n",
       "    <tr>\n",
       "      <th>mean</th>\n",
       "      <td>1.351576e+05</td>\n",
       "      <td>1.905813</td>\n",
       "      <td>7.299346</td>\n",
       "      <td>182.425512</td>\n",
       "    </tr>\n",
       "    <tr>\n",
       "      <th>std</th>\n",
       "      <td>7.813292e+04</td>\n",
       "      <td>0.343436</td>\n",
       "      <td>2.527241</td>\n",
       "      <td>64.325148</td>\n",
       "    </tr>\n",
       "    <tr>\n",
       "      <th>min</th>\n",
       "      <td>1.000000e+00</td>\n",
       "      <td>1.000000</td>\n",
       "      <td>1.500000</td>\n",
       "      <td>70.000000</td>\n",
       "    </tr>\n",
       "    <tr>\n",
       "      <th>25%</th>\n",
       "      <td>6.760050e+04</td>\n",
       "      <td>2.000000</td>\n",
       "      <td>5.400000</td>\n",
       "      <td>150.000000</td>\n",
       "    </tr>\n",
       "    <tr>\n",
       "      <th>50%</th>\n",
       "      <td>1.351365e+05</td>\n",
       "      <td>2.000000</td>\n",
       "      <td>7.400000</td>\n",
       "      <td>170.000000</td>\n",
       "    </tr>\n",
       "    <tr>\n",
       "      <th>75%</th>\n",
       "      <td>2.026998e+05</td>\n",
       "      <td>2.000000</td>\n",
       "      <td>9.200000</td>\n",
       "      <td>175.000000</td>\n",
       "    </tr>\n",
       "    <tr>\n",
       "      <th>max</th>\n",
       "      <td>2.415841e+06</td>\n",
       "      <td>5.000000</td>\n",
       "      <td>29.500000</td>\n",
       "      <td>380.000000</td>\n",
       "    </tr>\n",
       "  </tbody>\n",
       "</table>\n",
       "</div>"
      ],
      "text/plain": [
       "             TXN_ID       PROD_QTY      TOT_SALES      PACK_SIZE\n",
       "count  2.648340e+05  264834.000000  264834.000000  264834.000000\n",
       "mean   1.351576e+05       1.905813       7.299346     182.425512\n",
       "std    7.813292e+04       0.343436       2.527241      64.325148\n",
       "min    1.000000e+00       1.000000       1.500000      70.000000\n",
       "25%    6.760050e+04       2.000000       5.400000     150.000000\n",
       "50%    1.351365e+05       2.000000       7.400000     170.000000\n",
       "75%    2.026998e+05       2.000000       9.200000     175.000000\n",
       "max    2.415841e+06       5.000000      29.500000     380.000000"
      ]
     },
     "execution_count": 90,
     "metadata": {},
     "output_type": "execute_result"
    }
   ],
   "source": [
    "merged_data.describe()"
   ]
  },
  {
   "cell_type": "code",
   "execution_count": 91,
   "id": "9797890b",
   "metadata": {},
   "outputs": [
    {
     "name": "stdout",
     "output_type": "stream",
     "text": [
      "<class 'pandas.core.frame.DataFrame'>\n",
      "Int64Index: 264834 entries, 0 to 264833\n",
      "Data columns (total 12 columns):\n",
      " #   Column            Non-Null Count   Dtype         \n",
      "---  ------            --------------   -----         \n",
      " 0   DATE              264834 non-null  datetime64[ns]\n",
      " 1   STORE_NBR         264834 non-null  category      \n",
      " 2   LYLTY_CARD_NBR    264834 non-null  category      \n",
      " 3   TXN_ID            264834 non-null  int64         \n",
      " 4   PROD_NBR          264834 non-null  category      \n",
      " 5   PROD_NAME         264834 non-null  object        \n",
      " 6   PROD_QTY          264834 non-null  int64         \n",
      " 7   TOT_SALES         264834 non-null  float64       \n",
      " 8   PACK_SIZE         264834 non-null  int64         \n",
      " 9   BRAND             264834 non-null  object        \n",
      " 10  LIFESTAGE         264834 non-null  category      \n",
      " 11  PREMIUM_CUSTOMER  264834 non-null  category      \n",
      "dtypes: category(5), datetime64[ns](1), float64(1), int64(3), object(2)\n",
      "memory usage: 21.0+ MB\n"
     ]
    }
   ],
   "source": [
    "merged_data.info()"
   ]
  },
  {
   "cell_type": "code",
   "execution_count": 92,
   "id": "60522045",
   "metadata": {},
   "outputs": [],
   "source": [
    "#NO NULLS PRESENT"
   ]
  },
  {
   "cell_type": "markdown",
   "id": "35f9673e",
   "metadata": {},
   "source": [
    "# ANALYSIS:"
   ]
  },
  {
   "cell_type": "code",
   "execution_count": 93,
   "id": "3253ba98",
   "metadata": {},
   "outputs": [
    {
     "data": {
      "image/png": "[encoded data removed]",
      "text/plain": [
       "<Figure size 720x432 with 1 Axes>"
      ]
     },
     "metadata": {
      "needs_background": "light"
     },
     "output_type": "display_data"
    }
   ],
   "source": [
    "sales = merged_data.groupby(['LIFESTAGE', 'PREMIUM_CUSTOMER'])['TOT_SALES'].sum().reset_index()\n",
    "\n",
    "# Create the plot\n",
    "plt.figure(figsize=(10, 6))\n",
    "sns.set(font_scale=1.2)\n",
    "sns.barplot(data=sales, x='LIFESTAGE', y='TOT_SALES', hue='PREMIUM_CUSTOMER')\n",
    "\n",
    "# Set plot labels and title\n",
    "plt.xlabel('Lifestage')\n",
    "plt.ylabel('Total Sales')\n",
    "plt.title('Proportion of Sales')\n",
    "\n",
    "# Rotate x-axis labels if needed\n",
    "plt.xticks(rotation=90)\n",
    "\n",
    "# Show the plot\n",
    "plt.show()"
   ]
  },
  {
   "cell_type": "markdown",
   "id": "d86926e2",
   "metadata": {},
   "source": [
    "### Majority of sales come from mainstream-young singles/couples , mainstream-retiress,budget older families, budget younger families"
   ]
  },
  {
   "cell_type": "code",
   "execution_count": 95,
   "id": "3d6d711c",
   "metadata": {},
   "outputs": [
    {
     "data": {
      "image/png": "[encoded data removed]",
      "text/plain": [
       "<Figure size 720x432 with 1 Axes>"
      ]
     },
     "metadata": {},
     "output_type": "display_data"
    }
   ],
   "source": [
    "# Calculate average number of units per customer by LIFESTAGE and PREMIUM_CUSTOMER\n",
    "av = merged_data.groupby(['LIFESTAGE', 'PREMIUM_CUSTOMER']).apply(lambda x: x['PROD_QTY'].sum() / x['LYLTY_CARD_NBR'].nunique()).reset_index()\n",
    "av.columns = ['LIFESTAGE', 'PREMIUM_CUSTOMER', 'AVG']\n",
    "\n",
    "\n",
    "plt.figure(figsize=(10, 6))\n",
    "sns.set(font_scale=1.2)\n",
    "sns.barplot(data=av, x='LIFESTAGE', y='AVG', hue='PREMIUM_CUSTOMER')\n",
    "\n",
    "\n",
    "plt.xlabel('Lifestage')\n",
    "plt.ylabel('Avg units per transaction')\n",
    "plt.title('Units per customer')\n",
    "\n",
    "\n",
    "plt.xticks(rotation=90)\n",
    "\n",
    "# Show the plot\n",
    "plt.show()"
   ]
  },
  {
   "cell_type": "markdown",
   "id": "318f6dd8",
   "metadata": {},
   "source": [
    "### Older and young familes buy the most per transaction , makes sense "
   ]
  },
  {
   "cell_type": "code",
   "execution_count": 96,
   "id": "02776dc9",
   "metadata": {},
   "outputs": [],
   "source": [
    "avg = merged_data.groupby(['LIFESTAGE', 'PREMIUM_CUSTOMER']).apply(lambda x: x['TOT_SALES'].sum() / x['PROD_QTY'].sum()).reset_index()\n",
    "avg.columns = ['LIFESTAGE', 'PREMIUM_CUSTOMER', 'AVG']"
   ]
  },
  {
   "cell_type": "code",
   "execution_count": 98,
   "id": "e759d1a6",
   "metadata": {},
   "outputs": [
    {
     "data": {
      "image/png": "[encoded data removed]",
      "text/plain": [
       "<Figure size 720x432 with 1 Axes>"
      ]
     },
     "metadata": {},
     "output_type": "display_data"
    }
   ],
   "source": [
    "plt.figure(figsize=(10, 6))\n",
    "sns.set(font_scale=1.2)\n",
    "sns.barplot(data=avg, x='LIFESTAGE', y='AVG', hue='PREMIUM_CUSTOMER')\n",
    "\n",
    "\n",
    "plt.xlabel('Lifestage')\n",
    "plt.ylabel('Avg price per unit')\n",
    "plt.title('Price per unit')\n",
    "\n",
    "\n",
    "plt.xticks(rotation=90)\n",
    "\n",
    "\n",
    "plt.show()"
   ]
  },
  {
   "cell_type": "code",
   "execution_count": 99,
   "id": "a1276ded",
   "metadata": {},
   "outputs": [],
   "source": [
    "avrg = merged_data.groupby(['LIFESTAGE', 'PREMIUM_CUSTOMER']).apply(lambda x: (x['PACK_SIZE']*x['PROD_QTY']).sum() / x['PROD_QTY'].sum()).reset_index()\n",
    "avrg.columns = ['LIFESTAGE', 'PREMIUM_CUSTOMER', 'AVG']"
   ]
  },
  {
   "cell_type": "code",
   "execution_count": 100,
   "id": "0f1e23d8",
   "metadata": {
    "scrolled": true
   },
   "outputs": [
    {
     "data": {
      "image/png": "[encoded data removed]",
      "text/plain": [
       "<Figure size 720x432 with 1 Axes>"
      ]
     },
     "metadata": {},
     "output_type": "display_data"
    }
   ],
   "source": [
    "plt.figure(figsize=(10, 6))\n",
    "sns.set(font_scale=1.2)\n",
    "sns.barplot(data=avrg, x='LIFESTAGE', y='AVG', hue='PREMIUM_CUSTOMER')\n",
    "\n",
    "\n",
    "plt.xlabel('Lifestage')\n",
    "plt.ylabel('Avg price per unit')\n",
    "plt.title('Price per unit')\n",
    "\n",
    "\n",
    "plt.xticks(rotation=90)\n",
    "\n",
    "\n",
    "plt.show()"
   ]
  },
  {
   "cell_type": "markdown",
   "id": "03c0af40",
   "metadata": {},
   "source": [
    "#### BRAND AFFINITY AS PER LIFESTAGES THAT DRIVE SALES THE MOST:"
   ]
  },
  {
   "cell_type": "code",
   "execution_count": 27,
   "id": "2e452ee6",
   "metadata": {},
   "outputs": [
    {
     "name": "stdout",
     "output_type": "stream",
     "text": [
      "BRAND                   Burger     CCs  Cheetos  Cheezels     Cobs  Doritos  \\\n",
      "LIFESTAGE                                                                     \n",
      "MIDAGE SINGLES/COUPLES     0.0     0.0      0.0       0.0      0.0      0.0   \n",
      "NEW FAMILIES               0.0     0.0      0.0       0.0      0.0      0.0   \n",
      "OLDER FAMILIES          1566.3  3830.4   3686.2    7002.9  12027.0  41822.9   \n",
      "OLDER SINGLES/COUPLES      0.0     0.0      0.0       0.0      0.0      0.0   \n",
      "RETIREES                1131.6  2933.7   2785.5    7561.8  13687.6  46772.4   \n",
      "YOUNG FAMILIES             0.0     0.0      0.0       0.0      0.0      0.0   \n",
      "YOUNG SINGLES/COUPLES    719.9  2213.4   1936.0    5317.5   9845.8  33659.3   \n",
      "\n",
      "BRAND                   French   Grain  Infuzions   Kettle  ...  Pringles  \\\n",
      "LIFESTAGE                                                   ...             \n",
      "MIDAGE SINGLES/COUPLES     0.0     0.0        0.0      0.0  ...       0.0   \n",
      "NEW FAMILIES               0.0     0.0        0.0      0.0  ...       0.0   \n",
      "OLDER FAMILIES          1632.0  9583.3    17560.8  65984.0  ...   30584.2   \n",
      "OLDER SINGLES/COUPLES      0.0     0.0        0.0      0.0  ...       0.0   \n",
      "RETIREES                1269.0  9763.0    18899.0  76914.8  ...   34898.4   \n",
      "YOUNG FAMILIES             0.0     0.0        0.0      0.0  ...       0.0   \n",
      "YOUNG SINGLES/COUPLES   1017.0  6925.4    13793.0  54241.0  ...   25296.9   \n",
      "\n",
      "BRAND                       RED     Red   Smiths  Sunbites    Thins  Tostitos  \\\n",
      "LIFESTAGE                                                                       \n",
      "MIDAGE SINGLES/COUPLES      0.0     0.0      0.0       0.0      0.0       0.0   \n",
      "NEW FAMILIES                0.0     0.0      0.0       0.0      0.0       0.0   \n",
      "OLDER FAMILIES          14771.1  6677.1  45097.5    2050.2  15909.3   13248.4   \n",
      "OLDER SINGLES/COUPLES       0.0     0.0      0.0       0.0      0.0       0.0   \n",
      "RETIREES                10422.3  5289.3  40147.4    1703.4  17506.5   15593.6   \n",
      "YOUNG FAMILIES              0.0     0.0      0.0       0.0      0.0       0.0   \n",
      "YOUNG SINGLES/COUPLES    7522.2  3348.0  28179.5    1062.5  12045.0   11149.6   \n",
      "\n",
      "BRAND                   Twisties  Tyrrells  Woolworths  \n",
      "LIFESTAGE                                               \n",
      "MIDAGE SINGLES/COUPLES       0.0       0.0         0.0  \n",
      "NEW FAMILIES                 0.0       0.0         0.0  \n",
      "OLDER FAMILIES           14456.5    8904.0     11067.2  \n",
      "OLDER SINGLES/COUPLES        0.0       0.0         0.0  \n",
      "RETIREES                 16105.1   10054.8      8065.1  \n",
      "YOUNG FAMILIES               0.0       0.0         0.0  \n",
      "YOUNG SINGLES/COUPLES    11653.7    7413.0      5708.6  \n",
      "\n",
      "[7 rows x 23 columns]\n"
     ]
    }
   ],
   "source": [
    "filtered_data = merged_data[merged_data['LIFESTAGE'].isin(['OLDER FAMILIES', 'RETIREES', 'YOUNG SINGLES/COUPLES'])]\n",
    "\n",
    "\n",
    "avrge = filtered_data.groupby(['LIFESTAGE', 'BRAND'])['TOT_SALES'].sum().reset_index()\n",
    "\n",
    "table = avrge.pivot_table(index='LIFESTAGE', columns='BRAND', values='TOT_SALES', aggfunc='sum')\n",
    "\n",
    "\n",
    "print(table)"
   ]
  },
  {
   "cell_type": "markdown",
   "id": "078bc8f6",
   "metadata": {},
   "source": [
    "#### Brand affinity as per customer nature:"
   ]
  },
  {
   "cell_type": "code",
   "execution_count": 28,
   "id": "0ff14d3c",
   "metadata": {},
   "outputs": [
    {
     "name": "stdout",
     "output_type": "stream",
     "text": [
      "BRAND             Burger     CCs  Cheetos  Cheezels     Cobs   Doritos  \\\n",
      "PREMIUM_CUSTOMER                                                         \n",
      "Budget            2527.7  6657.0   6071.6   13983.9  23780.4  83961.25   \n",
      "Mainstream        2392.0  6507.9   6374.1   15303.3  28363.2  95638.90   \n",
      "Premium           1911.3  4914.0   4438.8   10742.7  18426.2  60990.75   \n",
      "\n",
      "BRAND             French    Grain  Infuzions    Kettle  ...  Pringles  \\\n",
      "PREMIUM_CUSTOMER                                        ...             \n",
      "Budget            3042.0  17770.0    34272.0  134407.8  ...   61201.7   \n",
      "Mainstream        2829.0  20233.6    38836.0  154477.0  ...   69785.7   \n",
      "Premium           2058.0  13613.6    25939.6  101355.0  ...   46668.1   \n",
      "\n",
      "BRAND                 RED      Red   Smiths  Sunbites    Thins  Tostitos  \\\n",
      "PREMIUM_CUSTOMER                                                           \n",
      "Budget            23874.6  10813.5  80744.0    3668.6  31066.2   27253.6   \n",
      "Mainstream        23615.7  10986.3  84726.2    3354.1  34326.6   31407.2   \n",
      "Premium           17464.2   8291.7  59190.0    2653.7  23459.7   21128.8   \n",
      "\n",
      "BRAND             Twisties  Tyrrells  Woolworths  \n",
      "PREMIUM_CUSTOMER                                  \n",
      "Budget             27960.0   17694.6     18349.4  \n",
      "Mainstream         32439.0   20575.8     17367.1  \n",
      "Premium            21123.1   13377.0     13627.1  \n",
      "\n",
      "[3 rows x 23 columns]\n"
     ]
    }
   ],
   "source": [
    "#filtered_data = merged_data[merged_data['LIFESTAGE'].isin(['OLDER FAMILIES', 'RETIREES', 'YOUNG SINGLES/COUPLES'])]\n",
    "\n",
    "\n",
    "avrges = merged_data.groupby(['PREMIUM_CUSTOMER', 'BRAND'])['TOT_SALES'].sum().reset_index()\n",
    "\n",
    "table2 = avrges.pivot_table(index='PREMIUM_CUSTOMER', columns='BRAND', values='TOT_SALES', aggfunc='sum')\n",
    "\n",
    "\n",
    "print(table2)"
   ]
  },
  {
   "cell_type": "code",
   "execution_count": null,
   "id": "56e88eec",
   "metadata": {},
   "outputs": [],
   "source": [
    "highest_sales_brand = table.loc['RETIREES'].idxmax()"
   ]
  },
  {
   "cell_type": "code",
   "execution_count": 30,
   "id": "451ab4b4",
   "metadata": {},
   "outputs": [
    {
     "data": {
      "image/png": "[encoded data removed]",
      "text/plain": [
       "<Figure size 576x432 with 2 Axes>"
      ]
     },
     "metadata": {
      "needs_background": "light"
     },
     "output_type": "display_data"
    }
   ],
   "source": [
    "import seaborn as sns\n",
    "import matplotlib.pyplot as plt\n",
    "\n",
    "# Create heatmap\n",
    "plt.figure(figsize=(8, 6))\n",
    "sns.heatmap(table, cmap=\"YlGnBu\", fmt=\".1f\", linewidths=0.5)\n",
    "plt.title(\"Total Sales by Customer Segment and Brand\")\n",
    "plt.xlabel(\"Brand\")\n",
    "plt.ylabel(\"Customer Segment\")\n",
    "plt.show()\n",
    "\n",
    "\n",
    "\n",
    "\n",
    "\n",
    "\n",
    "\n",
    "\n",
    "\n",
    "\n",
    "\n"
   ]
  },
  {
   "cell_type": "code",
   "execution_count": 31,
   "id": "3dc2e538",
   "metadata": {},
   "outputs": [
    {
     "data": {
      "image/png": "[encoded data removed]",
      "text/plain": [
       "<Figure size 576x432 with 2 Axes>"
      ]
     },
     "metadata": {
      "needs_background": "light"
     },
     "output_type": "display_data"
    }
   ],
   "source": [
    "plt.figure(figsize=(8, 6))\n",
    "sns.heatmap(table2, cmap=\"YlGnBu\", fmt=\".1f\", linewidths=0.5)\n",
    "plt.title(\"Total Sales by Customer Segment and Brand\")\n",
    "plt.xlabel(\"Brand\")\n",
    "plt.ylabel(\"Customer Segment\")\n",
    "plt.show()"
   ]
  },
  {
   "cell_type": "code",
   "execution_count": null,
   "id": "b07712c5",
   "metadata": {},
   "outputs": [],
   "source": []
  }
 ],
 "metadata": {
  "kernelspec": {
   "display_name": "Python 3 (ipykernel)",
   "language": "python",
   "name": "python3"
  },
  "language_info": {
   "codemirror_mode": {
    "name": "ipython",
    "version": 3
   },
   "file_extension": ".py",
   "mimetype": "text/x-python",
   "name": "python",
   "nbconvert_exporter": "python",
   "pygments_lexer": "ipython3",
   "version": "3.9.12"
  }
 },
 "nbformat": 4,
 "nbformat_minor": 5
}
